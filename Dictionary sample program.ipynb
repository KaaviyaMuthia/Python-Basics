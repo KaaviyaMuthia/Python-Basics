{
 "cells": [
  {
   "cell_type": "code",
   "execution_count": 1,
   "id": "2ee5708b",
   "metadata": {},
   "outputs": [
    {
     "name": "stdout",
     "output_type": "stream",
     "text": [
      "{'Name': 'Avery', 'Age': 17, 'Grade': 'A'}\n",
      "dict_keys(['Name', 'Age', 'Grade'])\n",
      "dict_values(['Avery', 17, 'A'])\n"
     ]
    }
   ],
   "source": [
    "# create a student dictionary\n",
    "\n",
    "a={\n",
    "    'Name':'Avery',\n",
    "    'Age':17,\n",
    "    'Grade':'A'\n",
    "}\n",
    "print(a)\n",
    "print(a.keys())\n",
    "print(a.values())"
   ]
  },
  {
   "cell_type": "code",
   "execution_count": 8,
   "id": "a47f5751",
   "metadata": {},
   "outputs": [
    {
     "name": "stdout",
     "output_type": "stream",
     "text": [
      "{'ten': 10, 'twenty': 20, 'thirthy': 30, 'forty': 40}\n"
     ]
    }
   ],
   "source": [
    "#Merging 2 dictionaries\n",
    "c={'ten':10,'twenty':20}\n",
    "d={'thirthy':30,'forty':40}\n",
    "\n",
    "print({**c,**d})"
   ]
  },
  {
   "cell_type": "code",
   "execution_count": 11,
   "id": "7d9a21d3",
   "metadata": {},
   "outputs": [
    {
     "name": "stdout",
     "output_type": "stream",
     "text": [
      "61\n"
     ]
    }
   ],
   "source": [
    "#from the given dictionary print value of science\n",
    "stu={\n",
    "    \"class\":{\n",
    "        'Student':{\n",
    "            'name':'mike',\n",
    "            'grade':{\n",
    "                'mathematics':76,\n",
    "                'Science':61\n",
    "            }\n",
    "        }\n",
    "    \n",
    "    }\n",
    "}\n",
    "print(stu['class']['Student']['grade']['Science'])"
   ]
  },
  {
   "cell_type": "code",
   "execution_count": 12,
   "id": "d3afb47e",
   "metadata": {},
   "outputs": [
    {
     "name": "stdout",
     "output_type": "stream",
     "text": [
      "True\n"
     ]
    }
   ],
   "source": [
    "#check if a value exists in a dictionary\n",
    "dict1={'ten':10,'twenty':20,'thirty':30}\n",
    "if 30 in dict1.values():\n",
    "    print(True)"
   ]
  },
  {
   "cell_type": "code",
   "execution_count": 15,
   "id": "9b2c1273",
   "metadata": {},
   "outputs": [
    {
     "name": "stdout",
     "output_type": "stream",
     "text": [
      "{'name': 'Ben', 'age': 25, 'salary': 8000, 'location': 'singapore'}\n"
     ]
    }
   ],
   "source": [
    "#rename key of a dictionary-city to location\n",
    "dict2={\n",
    "    'name':'Ben',\n",
    "    'age':25,\n",
    "    'salary':8000,\n",
    "    'city':'singapore'\n",
    "}\n",
    "dict2['location']=dict2.pop('city')\n",
    "print(dict2)"
   ]
  },
  {
   "cell_type": "code",
   "execution_count": null,
   "id": "3d4cca28",
   "metadata": {},
   "outputs": [],
   "source": []
  }
 ],
 "metadata": {
  "kernelspec": {
   "display_name": "Python 3 (ipykernel)",
   "language": "python",
   "name": "python3"
  },
  "language_info": {
   "codemirror_mode": {
    "name": "ipython",
    "version": 3
   },
   "file_extension": ".py",
   "mimetype": "text/x-python",
   "name": "python",
   "nbconvert_exporter": "python",
   "pygments_lexer": "ipython3",
   "version": "3.8.17"
  }
 },
 "nbformat": 4,
 "nbformat_minor": 5
}
