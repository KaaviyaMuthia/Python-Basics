{
 "cells": [
  {
   "cell_type": "code",
   "execution_count": 4,
   "id": "ded7e31d",
   "metadata": {},
   "outputs": [
    {
     "name": "stdout",
     "output_type": "stream",
     "text": [
      "10\n",
      "0\n",
      "[10 11]\n",
      "1\n",
      "[[10 11]\n",
      " [12 13]]\n",
      "2\n",
      "[[[10 11]\n",
      "  [12 13]\n",
      "  [14 15]]]\n",
      "3\n"
     ]
    }
   ],
   "source": [
    "import numpy as np\n",
    "a=np.array(10)\n",
    "b=np.array([10,11])\n",
    "c=np.array([[10,11],[12,13]])\n",
    "d=np.array([[[10,11],[12,13],[14,15]]])\n",
    "print(a)\n",
    "print(a.ndim)\n",
    "print(b)\n",
    "print(b.ndim)\n",
    "print(c)\n",
    "print(c.ndim)\n",
    "print(d)\n",
    "print(d.ndim)\n"
   ]
  },
  {
   "cell_type": "code",
   "execution_count": 6,
   "id": "fac5d158",
   "metadata": {},
   "outputs": [
    {
     "name": "stdout",
     "output_type": "stream",
     "text": [
      "5\n"
     ]
    }
   ],
   "source": [
    "#array indexing\n",
    "arr1=np.array([1,2,3,4,5])\n",
    "print(arr1[1]+arr1[2])"
   ]
  },
  {
   "cell_type": "code",
   "execution_count": 17,
   "id": "981f4009",
   "metadata": {},
   "outputs": [
    {
     "name": "stdout",
     "output_type": "stream",
     "text": [
      "[1 2 3 4]\n"
     ]
    }
   ],
   "source": [
    "#slicing from 1 dimensional array\n",
    "import numpy as np\n",
    "\n",
    "arr = np.array([1, 2, 3, 4, 5, 6, 7])\n",
    "\n",
    "print(arr[0:4])"
   ]
  },
  {
   "cell_type": "code",
   "execution_count": 18,
   "id": "cc595951",
   "metadata": {},
   "outputs": [
    {
     "name": "stdout",
     "output_type": "stream",
     "text": [
      "[5 6]\n"
     ]
    }
   ],
   "source": [
    "#negative slicing from 1 dimensional array\n",
    "import numpy as np\n",
    "\n",
    "arr = np.array([1, 2, 3, 4, 5, 6, 7])\n",
    "\n",
    "print(arr[-3:-1])"
   ]
  },
  {
   "cell_type": "code",
   "execution_count": 21,
   "id": "a7fd6ff0",
   "metadata": {},
   "outputs": [
    {
     "name": "stdout",
     "output_type": "stream",
     "text": [
      "2\n"
     ]
    }
   ],
   "source": [
    "#slicing from 2 dimensional array\n",
    "import numpy as np\n",
    "\n",
    "arr = np.array([[1, 2, 3],[ 4, 5, 6]])\n",
    "\n",
    "print(arr[0,1])"
   ]
  },
  {
   "cell_type": "code",
   "execution_count": 27,
   "id": "2b601436",
   "metadata": {},
   "outputs": [
    {
     "name": "stdout",
     "output_type": "stream",
     "text": [
      "6\n"
     ]
    }
   ],
   "source": [
    "#slicing from 3 dimensional array\n",
    "import numpy as np\n",
    "\n",
    "arr = np.array([[[1,2,3] ,[4, 5,6] ,[7,8,9]]])\n",
    "\n",
    "print(arr[0,1,2])"
   ]
  },
  {
   "cell_type": "code",
   "execution_count": null,
   "id": "f54fdb95",
   "metadata": {},
   "outputs": [],
   "source": []
  }
 ],
 "metadata": {
  "kernelspec": {
   "display_name": "Python 3",
   "language": "python",
   "name": "python3"
  },
  "language_info": {
   "codemirror_mode": {
    "name": "ipython",
    "version": 3
   },
   "file_extension": ".py",
   "mimetype": "text/x-python",
   "name": "python",
   "nbconvert_exporter": "python",
   "pygments_lexer": "ipython3",
   "version": "3.8.8"
  }
 },
 "nbformat": 4,
 "nbformat_minor": 5
}
