{
 "cells": [
  {
   "cell_type": "code",
   "execution_count": 4,
   "id": "fbd63b4d",
   "metadata": {},
   "outputs": [
    {
     "name": "stdout",
     "output_type": "stream",
     "text": [
      "welcome to functions\n"
     ]
    }
   ],
   "source": [
    "def wel():\n",
    "    print('welcome to functions')\n",
    "    \n",
    "wel()    \n"
   ]
  },
  {
   "cell_type": "code",
   "execution_count": 7,
   "id": "7c12e5a0",
   "metadata": {},
   "outputs": [
    {
     "name": "stdout",
     "output_type": "stream",
     "text": [
      "Kaaviya Muthia\n",
      "Krish Vishwa Muthia\n"
     ]
    }
   ],
   "source": [
    "def name(fn):\n",
    "    print(fn+' Muthia')\n",
    "\n",
    "name('Kaaviya')\n",
    "name('Krish Vishwa')\n",
    "    "
   ]
  },
  {
   "cell_type": "code",
   "execution_count": 10,
   "id": "d06b9f26",
   "metadata": {},
   "outputs": [
    {
     "name": "stdout",
     "output_type": "stream",
     "text": [
      "Kaaviya Muthia\n"
     ]
    }
   ],
   "source": [
    "def myname(fn,ln):\n",
    "    print(fn+' '+ln)\n",
    "\n",
    "myname('Kaaviya','Muthia')"
   ]
  },
  {
   "cell_type": "code",
   "execution_count": 14,
   "id": "b57c9c39",
   "metadata": {},
   "outputs": [
    {
     "name": "stdout",
     "output_type": "stream",
     "text": [
      "enter a number3\n",
      "enter a number8\n",
      "11\n"
     ]
    }
   ],
   "source": [
    "a=int(input('enter a number'))\n",
    "b=int(input('enter a number'))\n",
    "def add(a,b):\n",
    "   \n",
    "    c=a+b\n",
    "    print(c)\n",
    "add(a,b)"
   ]
  },
  {
   "cell_type": "code",
   "execution_count": 15,
   "id": "b4a24b6c",
   "metadata": {},
   "outputs": [
    {
     "name": "stdout",
     "output_type": "stream",
     "text": [
      "enter a number3\n",
      "3 * 1 = 3\n",
      "3 * 2 = 6\n",
      "3 * 3 = 9\n",
      "3 * 4 = 12\n",
      "3 * 5 = 15\n",
      "3 * 6 = 18\n",
      "3 * 7 = 21\n",
      "3 * 8 = 24\n",
      "3 * 9 = 27\n",
      "3 * 10 = 30\n"
     ]
    }
   ],
   "source": [
    "a=int(input(\"enter a number\"))\n",
    "def add(a):\n",
    "    for i in range(1,11):\n",
    "        print(a,'*',i,'=',a*i)\n",
    "add(a)"
   ]
  },
  {
   "cell_type": "code",
   "execution_count": 21,
   "id": "cb3c0f6f",
   "metadata": {},
   "outputs": [
    {
     "name": "stdout",
     "output_type": "stream",
     "text": [
      "enter an index number:8\n",
      "absent\n"
     ]
    }
   ],
   "source": [
    "#define a function that accepts index number and returns whether the student is present or absent\n",
    "def details(rnum):\n",
    "    inum=[1,2,3,4,5]\n",
    "    if rnum in inum:\n",
    "        print('present')\n",
    "    else:\n",
    "        print('absent')\n",
    "\n",
    "rnum=int(input('enter an index number:'))\n",
    "details(rnum)"
   ]
  },
  {
   "cell_type": "code",
   "execution_count": 23,
   "id": "97f422fa",
   "metadata": {},
   "outputs": [
    {
     "name": "stdout",
     "output_type": "stream",
     "text": [
      "Enter a number: 3\n",
      "num1 is odd\n"
     ]
    }
   ],
   "source": [
    "#define a function that accepts a number and returns te number as odd or even\n",
    "def values(num1):\n",
    "    if num1%2==0:\n",
    "        print('num1 is even')\n",
    "    else:\n",
    "        print('num1 is odd')\n",
    "num1=int(input('Enter a number: '))\n",
    "values(num1)"
   ]
  },
  {
   "cell_type": "code",
   "execution_count": 27,
   "id": "0198a9eb",
   "metadata": {},
   "outputs": [
    {
     "name": "stdout",
     "output_type": "stream",
     "text": [
      "Enter a number: 4\n",
      "24\n"
     ]
    }
   ],
   "source": [
    "#define a function that returns factorial of a number\n",
    "def factorial(num3,list1):\n",
    "    for i in range(1,num3+1):\n",
    "        list1=list1*i\n",
    "    print(list1)\n",
    "list1=1\n",
    "num3=int(input('Enter a number: '))\n",
    "factorial(num3,list1)"
   ]
  },
  {
   "cell_type": "code",
   "execution_count": null,
   "id": "68dd68c7",
   "metadata": {},
   "outputs": [],
   "source": []
  }
 ],
 "metadata": {
  "kernelspec": {
   "display_name": "Python 3 (ipykernel)",
   "language": "python",
   "name": "python3"
  },
  "language_info": {
   "codemirror_mode": {
    "name": "ipython",
    "version": 3
   },
   "file_extension": ".py",
   "mimetype": "text/x-python",
   "name": "python",
   "nbconvert_exporter": "python",
   "pygments_lexer": "ipython3",
   "version": "3.8.17"
  }
 },
 "nbformat": 4,
 "nbformat_minor": 5
}
